{
 "cells": [
  {
   "cell_type": "code",
   "execution_count": 1,
   "id": "e9753b8f-a235-4818-ba80-7143a2ab3d21",
   "metadata": {},
   "outputs": [],
   "source": [
    "import pennylane as qml\n",
    "import numpy as np"
   ]
  },
  {
   "cell_type": "code",
   "execution_count": 2,
   "id": "125cf29c-d439-4ba5-95e9-1a9ac5b251b7",
   "metadata": {},
   "outputs": [],
   "source": [
    "max_bin_length = 4"
   ]
  },
  {
   "cell_type": "code",
   "execution_count": 6,
   "id": "658a63b8-0a9e-4534-a33e-e5065a43f797",
   "metadata": {},
   "outputs": [],
   "source": [
    "num_qubits = max_bin_length +1\n",
    "num_shots = 20000\n",
    "dev = qml.device(\"default.qubit\", wires=num_qubits, shots=num_shots)\n",
    "@qml.qnode(dev, interface=\"torch\")\n",
    "def quantum_net(bin):\n",
    "    for i in range(len(bin)):\n",
    "        \n",
    "        if bin[i] == \"1\":\n",
    "            qml.X(i)\n",
    "    qml.X(len(bin)-1)\n",
    "    qml.CNOT([len(bin)-1,len(bin)])\n",
    "    qml.X(len(bin)-1)\n",
    "    qml.CNOT([len(bin),len(bin)-1])\n",
    "    #qml.X(len(bin))\n",
    "    \n",
    "    \n",
    "    \n",
    "    return qml.probs(list(range(len(bin) )))"
   ]
  },
  {
   "cell_type": "code",
   "execution_count": 7,
   "id": "095d02b1-a297-40ba-b3c0-2906621dddf0",
   "metadata": {},
   "outputs": [],
   "source": [
    "def algo(num):\n",
    "    bin = np.binary_repr(num-1)\n",
    "    result = quantum_net(bin)\n",
    "    \n",
    "    print(np.where(result.float() == 1)[0][0] +1)"
   ]
  },
  {
   "cell_type": "code",
   "execution_count": 10,
   "id": "95adf055-9423-4f9d-8cf7-41a71015e015",
   "metadata": {},
   "outputs": [
    {
     "name": "stdout",
     "output_type": "stream",
     "text": [
      "6\n"
     ]
    }
   ],
   "source": [
    "algo(5)"
   ]
  },
  {
   "cell_type": "code",
   "execution_count": null,
   "id": "a46d9b24-fc41-4a87-8adb-4324946510bf",
   "metadata": {},
   "outputs": [],
   "source": []
  }
 ],
 "metadata": {
  "kernelspec": {
   "display_name": "Python 3 (ipykernel)",
   "language": "python",
   "name": "python3"
  },
  "language_info": {
   "codemirror_mode": {
    "name": "ipython",
    "version": 3
   },
   "file_extension": ".py",
   "mimetype": "text/x-python",
   "name": "python",
   "nbconvert_exporter": "python",
   "pygments_lexer": "ipython3",
   "version": "3.11.7"
  }
 },
 "nbformat": 4,
 "nbformat_minor": 5
}
